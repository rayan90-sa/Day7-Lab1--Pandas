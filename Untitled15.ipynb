{
 "cells": [
  {
   "cell_type": "code",
   "execution_count": 45,
   "id": "117b2054",
   "metadata": {},
   "outputs": [],
   "source": [
    "import pandas as pd\n",
    "\n",
    "#Q1: Create a Series with indexes = 1, 2, 3 and has three names.\n",
    " \n",
    "#Q2: Change indexes to 11, 12, 13.\n",
    " \n",
    "#Q3: Retrieve First and second elements.\n",
    " \n",
    "#Q4: Add duplicate elements, then remove the duplication\n",
    "#Q5: Create a Students DataFrame has three columns (ID, Name)\n",
    " \n",
    "#Q6: Read educ_figdp_1_Data.csv file\n",
    "    \n",
    "#Q7: What is the difference between loc and slicing?\n",
    "#loc use the index labels as references\n",
    "#slice use the position as references"
   ]
  },
  {
   "cell_type": "code",
   "execution_count": 46,
   "id": "85f65ba1",
   "metadata": {},
   "outputs": [],
   "source": [
    "import pandas as pd"
   ]
  },
  {
   "cell_type": "code",
   "execution_count": 47,
   "id": "9da5c7a4",
   "metadata": {},
   "outputs": [
    {
     "data": {
      "text/plain": [
       "1         Rayan\n",
       "2          Saud\n",
       "3    ALshanabah\n",
       "dtype: object"
      ]
     },
     "execution_count": 47,
     "metadata": {},
     "output_type": "execute_result"
    }
   ],
   "source": [
    "s = pd.Series([\"Rayan\", \"Saud\", \"ALshanabah\"],dtype=str,index = [1,2,3])\n",
    "s"
   ]
  },
  {
   "cell_type": "code",
   "execution_count": 48,
   "id": "85e7fd67",
   "metadata": {},
   "outputs": [
    {
     "data": {
      "text/plain": [
       "11         Rayan\n",
       "12          Saud\n",
       "13    ALshanabah\n",
       "dtype: object"
      ]
     },
     "execution_count": 48,
     "metadata": {},
     "output_type": "execute_result"
    }
   ],
   "source": [
    "s.index=[11,12,13]\n",
    "s"
   ]
  },
  {
   "cell_type": "code",
   "execution_count": 49,
   "id": "80f5741b",
   "metadata": {},
   "outputs": [
    {
     "data": {
      "text/plain": [
       "11    Rayan\n",
       "12     Saud\n",
       "dtype: object"
      ]
     },
     "execution_count": 49,
     "metadata": {},
     "output_type": "execute_result"
    }
   ],
   "source": [
    "s[0:2]"
   ]
  },
  {
   "cell_type": "code",
   "execution_count": 56,
   "id": "27ec31d0",
   "metadata": {},
   "outputs": [
    {
     "name": "stderr",
     "output_type": "stream",
     "text": [
      "C:\\Users\\delll\\AppData\\Local\\Temp\\ipykernel_18192\\929368630.py:2: FutureWarning: The series.append method is deprecated and will be removed from pandas in a future version. Use pandas.concat instead.\n",
      "  s = s.append(s2)\n"
     ]
    },
    {
     "data": {
      "text/plain": [
       "11         Rayan\n",
       "12          Saud\n",
       "13    ALshanabah\n",
       "14          Saud\n",
       "14          Saud\n",
       "14          Saud\n",
       "dtype: object"
      ]
     },
     "execution_count": 56,
     "metadata": {},
     "output_type": "execute_result"
    }
   ],
   "source": [
    "s2 = pd.Series({14: \"Saud\"},dtype=str)\n",
    "s = s.append(s2)\n",
    "s"
   ]
  },
  {
   "cell_type": "code",
   "execution_count": 60,
   "id": "a018df51",
   "metadata": {},
   "outputs": [],
   "source": [
    "s = s.drop_duplicates()"
   ]
  },
  {
   "cell_type": "code",
   "execution_count": 61,
   "id": "abf012e9",
   "metadata": {},
   "outputs": [
    {
     "data": {
      "text/plain": [
       "11         Rayan\n",
       "12          Saud\n",
       "13    ALshanabah\n",
       "dtype: object"
      ]
     },
     "execution_count": 61,
     "metadata": {},
     "output_type": "execute_result"
    }
   ],
   "source": [
    "s"
   ]
  },
  {
   "cell_type": "code",
   "execution_count": 63,
   "id": "8c212b98",
   "metadata": {},
   "outputs": [
    {
     "data": {
      "text/html": [
       "<div>\n",
       "<style scoped>\n",
       "    .dataframe tbody tr th:only-of-type {\n",
       "        vertical-align: middle;\n",
       "    }\n",
       "\n",
       "    .dataframe tbody tr th {\n",
       "        vertical-align: top;\n",
       "    }\n",
       "\n",
       "    .dataframe thead th {\n",
       "        text-align: right;\n",
       "    }\n",
       "</style>\n",
       "<table border=\"1\" class=\"dataframe\">\n",
       "  <thead>\n",
       "    <tr style=\"text-align: right;\">\n",
       "      <th></th>\n",
       "      <th>ID</th>\n",
       "      <th>Name</th>\n",
       "    </tr>\n",
       "  </thead>\n",
       "  <tbody>\n",
       "    <tr>\n",
       "      <th>0</th>\n",
       "      <td>100000</td>\n",
       "      <td>Rayan</td>\n",
       "    </tr>\n",
       "  </tbody>\n",
       "</table>\n",
       "</div>"
      ],
      "text/plain": [
       "       ID   Name\n",
       "0  100000  Rayan"
      ]
     },
     "execution_count": 63,
     "metadata": {},
     "output_type": "execute_result"
    }
   ],
   "source": [
    "student = {\"ID\":[100000], \"Name\":[\"Rayan\"]}\n",
    "dt= pd.DataFrame(student)\n",
    "dt"
   ]
  },
  {
   "cell_type": "code",
   "execution_count": null,
   "id": "afc5830d",
   "metadata": {},
   "outputs": [],
   "source": [
    "edu = pd.read_csv('educ_figdp_1_Data.csv')\n",
    "edu"
   ]
  }
 ],
 "metadata": {
  "kernelspec": {
   "display_name": "Python 3 (ipykernel)",
   "language": "python",
   "name": "python3"
  },
  "language_info": {
   "codemirror_mode": {
    "name": "ipython",
    "version": 3
   },
   "file_extension": ".py",
   "mimetype": "text/x-python",
   "name": "python",
   "nbconvert_exporter": "python",
   "pygments_lexer": "ipython3",
   "version": "3.9.12"
  }
 },
 "nbformat": 4,
 "nbformat_minor": 5
}
